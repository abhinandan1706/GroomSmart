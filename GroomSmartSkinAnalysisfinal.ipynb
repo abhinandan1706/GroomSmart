{
  "cells": [
    {
      "cell_type": "code",
      "execution_count": null,
      "metadata": {
        "id": "2GTZ2EAaxb3g"
      },
      "outputs": [],
      "source": []
    },
    {
      "cell_type": "code",
      "source": [
        "import requests\n",
        "\n",
        "# API credentials\n",
        "api_key = \"CyJehYWvGDUJzNPmqMYbmiN6Ijltp5BV\"\n",
        "api_secret = \"dUjeHR1wATrlmm7z_irHvjhmwVA6W4Uz\"\n",
        "\n",
        "# Correct image file path\n",
        "image_file_path = \"/photo_2025-02-19_09-16-16.jpg\"\n",
        "\n",
        "# Face++ API endpoint\n",
        "url = \"https://api-us.faceplusplus.com/facepp/v3/detect\"\n",
        "\n",
        "# Request parameters\n",
        "params = {\n",
        "    \"api_key\": api_key,\n",
        "    \"api_secret\": api_secret,\n",
        "    \"return_attributes\": \"gender,age,smiling,emotion,beauty,skinstatus\"\n",
        "}\n",
        "\n",
        "# Send the request with the image file\n",
        "try:\n",
        "    with open(image_file_path, \"rb\") as image_file:\n",
        "        files = {\"image_file\": image_file}\n",
        "        response = requests.post(url, data=params, files=files)\n",
        "\n",
        "    # Check and print the response\n",
        "    if response.status_code == 200:\n",
        "        result = response.json()\n",
        "        print(\"API Response:\", result)\n",
        "\n",
        "        # Extracting and printing skin attributes if available\n",
        "        if \"faces\" in result and result[\"faces\"]:\n",
        "            skin_status = result[\"faces\"][0].get(\"attributes\", {}).get(\"skinstatus\", {})\n",
        "            print(\"Skin Status:\", skin_status)\n",
        "        else:\n",
        "            print(\"No face detected. Please try with another image.\")\n",
        "\n",
        "    else:\n",
        "        print(f\"Failed to connect: {response.status_code}, {response.text}\")\n",
        "\n",
        "except FileNotFoundError:\n",
        "    print(\"Image file not found. Please check the file path.\")\n",
        "except Exception as e:\n",
        "    print(f\"An error occurred: {e}\")\n",
        "\n"
      ],
      "metadata": {
        "id": "LvWMgdvH017j",
        "colab": {
          "base_uri": "https://localhost:8080/"
        },
        "outputId": "0bcfefab-5206-4b09-f381-78e1875cbe6a"
      },
      "execution_count": 7,
      "outputs": [
        {
          "output_type": "stream",
          "name": "stdout",
          "text": [
            "API Response: {'request_id': '1739940421,f517ff23-7c86-41e3-8899-70885df35da4', 'time_used': 289, 'faces': [{'face_token': '3820683cbe25c7450731b2d231401e89', 'face_rectangle': {'top': 612, 'left': 439, 'width': 49, 'height': 49}, 'attributes': {'gender': {'value': 'Male'}, 'age': {'value': 25}, 'smile': {'value': 62.183, 'threshold': 50.0}, 'emotion': {'anger': 0.0, 'disgust': 0.011, 'fear': 0.0, 'happiness': 0.001, 'neutral': 98.03, 'sadness': 1.957, 'surprise': 0.0}, 'beauty': {'male_score': 41.62, 'female_score': 43.607}, 'skinstatus': {'health': 4.212, 'stain': 4.15, 'dark_circle': 99.975, 'acne': 1.635}}}], 'image_id': '1eGJ4OB/XSeGjYuOxelJVw==', 'face_num': 1}\n",
            "Skin Status: {'health': 4.212, 'stain': 4.15, 'dark_circle': 99.975, 'acne': 1.635}\n"
          ]
        }
      ]
    },
    {
      "cell_type": "code",
      "source": [
        "def map_skin_concerns(skin_data):\n",
        "    concerns = []\n",
        "\n",
        "    if skin_data[\"acne\"] > 3:\n",
        "        concerns.append(\"Acne\")\n",
        "    if skin_data[\"dark_circle\"] > 3:\n",
        "        concerns.append(\"Dark Spots\")\n",
        "    if skin_data[\"stain\"] > 3:\n",
        "        concerns.append(\"Hyperpigmentation\")\n",
        "    if skin_data[\"wrinkle\"] > 3:\n",
        "        concerns.append(\"Wrinkles\")\n",
        "\n",
        "    return concerns\n"
      ],
      "metadata": {
        "id": "bJhGV-zsuZhi"
      },
      "execution_count": 11,
      "outputs": []
    },
    {
      "cell_type": "code",
      "source": [
        "import pandas as pd\n",
        "\n",
        "# Define skincare product data\n",
        "data = [\n",
        "\n",
        "    {\n",
        "        \"id\": 101,\n",
        "        \"name\": \"CeraVe Foaming Cleanser\",\n",
        "        \"type\": \"Cleanser\",\n",
        "        \"key_ingredients\": \"Niacinamide, Ceramides\",\n",
        "        \"suitable_for\": [\"Oily\", \"Combination\"],\n",
        "        \"concerns\": [\"Acne\", \"Redness\"],\n",
        "        \"usage_time\": \"Morning (7-9 AM), Night (9-11 PM)\"\n",
        "    },\n",
        "    {\n",
        "        \"id\": 102,\n",
        "        \"name\": \"La Roche-Posay Moisturizer\",\n",
        "        \"type\": \"Moisturizer\",\n",
        "        \"key_ingredients\": \"Glycerin, Hyaluronic Acid\",\n",
        "        \"suitable_for\": [\"Dry\", \"Normal\"],\n",
        "        \"concerns\": [\"Dryness\"],\n",
        "        \"usage_time\": \"Morning (7-9 AM), Night (9-11 PM)\"\n",
        "    },\n",
        "    {\n",
        "        \"id\": 103,\n",
        "        \"name\": \"The Ordinary Niacinamide Serum\",\n",
        "        \"type\": \"Serum\",\n",
        "        \"key_ingredients\": \"Niacinamide, Zinc\",\n",
        "        \"suitable_for\": [\"Oily\", \"Combination\"],\n",
        "        \"concerns\": [\"Acne\", \"Dark Spots\"],\n",
        "        \"usage_time\": \"Night (9-11 PM)\"\n",
        "    },\n",
        "    {\n",
        "        \"id\": 104,\n",
        "        \"name\": \"Neutrogena Ultra Sheer SPF 50\",\n",
        "        \"type\": \"Sunscreen\",\n",
        "        \"key_ingredients\": \"Avobenzone, Oxybenzone\",\n",
        "        \"suitable_for\": [\"All\"],\n",
        "        \"concerns\": [\"Sun Protection\"],\n",
        "        \"usage_time\": \"Morning (7-9 AM) Only\"\n",
        "    },\n",
        "    {\n",
        "        \"id\": 105,\n",
        "        \"name\": \"COSRX Snail Mucin Essence\",\n",
        "        \"type\": \"Essence\",\n",
        "        \"key_ingredients\": \"Snail Mucin, Hyaluronic Acid\",\n",
        "        \"suitable_for\": [\"Dry\", \"Sensitive\"],\n",
        "        \"concerns\": [\"Hydration\", \"Redness\"],\n",
        "        \"usage_time\": \"Morning (7-9 AM), Night (9-11 PM)\"\n",
        "    }\n",
        "]\n",
        "\n",
        "\n",
        "# Create DataFrame\n",
        "df = pd.DataFrame(data, columns=[\"id\", \"name\", \"type\", \"key_ingredients\", \"suitable_for\", \"concerns\", \"usage_time\"])\n",
        "\n",
        "# Save as CSV\n",
        "df.to_csv(\"skincare_data.csv\", index=False)\n",
        "\n",
        "print(\"CSV file 'skincare_data.csv' created successfully!\")\n"
      ],
      "metadata": {
        "colab": {
          "base_uri": "https://localhost:8080/"
        },
        "id": "LprMgrgYh5_8",
        "outputId": "0ac88e5b-1df2-42e0-eafd-49e77755c334"
      },
      "execution_count": 35,
      "outputs": [
        {
          "output_type": "stream",
          "name": "stdout",
          "text": [
            "CSV file 'skincare_data.csv' created successfully!\n"
          ]
        }
      ]
    },
    {
      "cell_type": "code",
      "source": [
        "import pandas as pd\n",
        "\n",
        "# Load the skincare dataset\n",
        "df = pd.read_csv(\"skincare_data.csv\")\n",
        "\n",
        "def get_recommendations(concerns):\n",
        "    # Filter products matching concerns\n",
        "    recommended = df[df[\"concerns\"].apply(lambda x: any(c in x for c in concerns))]\n",
        "    return recommended[[\"name\", \"type\", \"key_ingredients\", \"usage_time\"]].to_dict(orient=\"records\")\n"
      ],
      "metadata": {
        "id": "sC8QUlLcg4Tw"
      },
      "execution_count": 36,
      "outputs": []
    },
    {
      "cell_type": "code",
      "source": [
        "{\n",
        "  \"concerns\": [\"Acne\", \"Dark Spots\"],\n",
        "  \"routine\": [\n",
        "    {\n",
        "      \"name\": \"The Ordinary Niacinamide Serum\",\n",
        "      \"type\": \"Serum\",\n",
        "      \"key_ingredients\": \"Niacinamide, Zinc\",\n",
        "      \"usage_time\": \"Night (9-11 PM)\"\n",
        "    },\n",
        "    {\n",
        "      \"name\": \"CeraVe Foaming Cleanser\",\n",
        "      \"type\": \"Cleanser\",\n",
        "      \"key_ingredients\": \"Niacinamide, Ceramides\",\n",
        "      \"usage_time\": \"Morning (7-9 AM), Night (9-11 PM)\"\n",
        "    }\n",
        "  ]\n",
        "}\n"
      ],
      "metadata": {
        "colab": {
          "base_uri": "https://localhost:8080/"
        },
        "id": "9FLbO3b3hFyz",
        "outputId": "4c179cdd-be8c-492a-ec80-d3006b65bf22"
      },
      "execution_count": 37,
      "outputs": [
        {
          "output_type": "execute_result",
          "data": {
            "text/plain": [
              "{'concerns': ['Acne', 'Dark Spots'],\n",
              " 'routine': [{'name': 'The Ordinary Niacinamide Serum',\n",
              "   'type': 'Serum',\n",
              "   'key_ingredients': 'Niacinamide, Zinc',\n",
              "   'usage_time': 'Night (9-11 PM)'},\n",
              "  {'name': 'CeraVe Foaming Cleanser',\n",
              "   'type': 'Cleanser',\n",
              "   'key_ingredients': 'Niacinamide, Ceramides',\n",
              "   'usage_time': 'Morning (7-9 AM), Night (9-11 PM)'}]}"
            ]
          },
          "metadata": {},
          "execution_count": 37
        }
      ]
    },
    {
      "cell_type": "code",
      "source": [
        "import json\n",
        "import pandas as pd\n",
        "\n",
        "# Load skincare dataset\n",
        "df = pd.read_csv(\"skincare_data.csv\")\n",
        "\n",
        "def analyze_skin(facepp_response):\n",
        "    # Extract skin scores\n",
        "    skin_data = facepp_response[\"skinstatus\"]\n",
        "\n",
        "    # Map to concerns\n",
        "    concerns = []\n",
        "    if skin_data[\"acne\"] > 3:\n",
        "        concerns.append(\"Acne\")\n",
        "    if skin_data[\"dark_circle\"] > 3:\n",
        "        concerns.append(\"Dark Spots\")\n",
        "    if skin_data[\"stain\"] > 3:\n",
        "        concerns.append(\"Hyperpigmentation\")\n",
        "    if skin_data[\"wrinkle\"] > 3:\n",
        "        concerns.append(\"Wrinkles\")\n",
        "\n",
        "    # Get product recommendations\n",
        "    recommended_products = df[df[\"concerns\"].apply(lambda x: any(c in x for c in concerns))]\n",
        "    recommendations = recommended_products[[\"name\", \"type\", \"key_ingredients\", \"usage_time\"]].to_dict(orient=\"records\")\n",
        "\n",
        "    # Return skincare routine\n",
        "    return {\"concerns\": concerns, \"routine\": recommendations}\n",
        "\n",
        "# Example Face++ response\n",
        "facepp_response = {\n",
        "    \"skinstatus\": {\"acne\": 4.2, \"dark_circle\": 3.1, \"stain\": 2.8, \"wrinkle\": 1.5}\n",
        "}\n",
        "\n",
        "# Run analysis\n",
        "result = analyze_skin(facepp_response)\n",
        "def display_recommendations(result):\n",
        "    print(\"\\n🔍 Detected Skin Concerns:\")\n",
        "    print(\", \".join(result[\"concerns\"]))\n",
        "\n",
        "    print(\"\\n💡Recommended Skincare Routine:\\n\")\n",
        "    for product in result[\"routine\"]:\n",
        "        print(f\"🛍️ {product['name']} ({product['type']})\")\n",
        "        print(f\"   🔹 Ingredients: {product['key_ingredients']}\")\n",
        "\n",
        "        # Check if \"usage_time\" exists before printing\n",
        "        if \"usage_time\" in product:\n",
        "            print(f\"   ⏰ When to Use: {product['usage_time']}\\n\")\n",
        "        else:\n",
        "            print(\"   ⚠️ No usage time specified\\n\")\n",
        "\n",
        "\n",
        "\n",
        "\n",
        "        # Run analysis\n",
        "result = analyze_skin(facepp_response)\n",
        "\n",
        "\n",
        "\n"
      ],
      "metadata": {
        "id": "18k2WoByg80T"
      },
      "execution_count": 43,
      "outputs": []
    },
    {
      "cell_type": "code",
      "source": [
        "import json\n",
        "\n",
        "# Debugging print to check if 'usage_time' is present in recommendations\n",
        "# print(\"\\n🔍 Checking recommended skincare products:\")\n",
        "# print(json.dumps(result[\"routine\"], indent=2))\n",
        "\n",
        "# Now call the function\n",
        "display_recommendations(result)\n",
        "\n"
      ],
      "metadata": {
        "colab": {
          "base_uri": "https://localhost:8080/"
        },
        "id": "jJxCGI7mirmK",
        "outputId": "bfe26f90-4866-409a-bea0-5d5a548edc85"
      },
      "execution_count": 44,
      "outputs": [
        {
          "output_type": "stream",
          "name": "stdout",
          "text": [
            "\n",
            "🔍 Detected Skin Concerns:\n",
            "Acne, Dark Spots\n",
            "\n",
            "💡Recommended Skincare Routine:\n",
            "\n",
            "🛍️ CeraVe Foaming Cleanser (Cleanser)\n",
            "   🔹 Ingredients: Niacinamide, Ceramides\n",
            "   ⏰ When to Use: Morning (7-9 AM), Night (9-11 PM)\n",
            "\n",
            "🛍️ The Ordinary Niacinamide Serum (Serum)\n",
            "   🔹 Ingredients: Niacinamide, Zinc\n",
            "   ⏰ When to Use: Night (9-11 PM)\n",
            "\n"
          ]
        }
      ]
    },
    {
      "cell_type": "code",
      "source": [],
      "metadata": {
        "id": "ZSzxkFUGnM-v"
      },
      "execution_count": null,
      "outputs": []
    }
  ],
  "metadata": {
    "colab": {
      "provenance": []
    },
    "kernelspec": {
      "display_name": "Python 3",
      "name": "python3"
    },
    "language_info": {
      "name": "python"
    }
  },
  "nbformat": 4,
  "nbformat_minor": 0
}